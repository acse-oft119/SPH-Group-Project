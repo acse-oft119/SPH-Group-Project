{
 "cells": [
  {
   "cell_type": "markdown",
   "metadata": {},
   "source": [
    "# Convergenc Rate Analysis Perdictor-Corrector Scheme:"
   ]
  },
  {
   "cell_type": "code",
   "execution_count": 1,
   "metadata": {},
   "outputs": [],
   "source": [
    "from lxml import etree\n",
    "import itertools\n",
    "import pandas as pd\n",
    "import numpy as np\n",
    "import sys\n",
    "import math\n",
    "import matplotlib.pyplot as plt"
   ]
  },
  {
   "cell_type": "markdown",
   "metadata": {},
   "source": [
    "### Read result of different dx "
   ]
  },
  {
   "cell_type": "code",
   "execution_count": 18,
   "metadata": {},
   "outputs": [],
   "source": [
    "particles005 = pd.HDFStore('005.h5',mode='r')\n",
    "keylist005 = particles005.keys()\n",
    "\n",
    "particles1 = pd.HDFStore('01.h5',mode='r')\n",
    "keylist1 = particles1.keys()\n",
    "\n",
    "particles15 = pd.HDFStore('015.h5',mode='r')\n",
    "keylist15 = particles15.keys()\n",
    "\n",
    "particles2 = pd.HDFStore('02.h5',mode='r')\n",
    "keylist2 = particles2.keys()\n",
    "\n",
    "particles25 = pd.HDFStore('025.h5',mode='r')\n",
    "keylist25 = particles25.keys()\n",
    "\n",
    "particles3= pd.HDFStore('03.h5',mode='r')\n",
    "keylist3 = particles3.keys()\n",
    "\n",
    "particles35 = pd.HDFStore('035.h5',mode='r')\n",
    "keylist35 = particles35.keys()\n",
    "\n",
    "particles4 = pd.HDFStore('04.h5',mode='r')\n",
    "keylist4 = particles4.keys()\n",
    "\n",
    "particles45 = pd.HDFStore('045.h5',mode='r')\n",
    "keylist45 = particles45.keys()\n",
    "\n",
    "particles5 = pd.HDFStore('05.h5',mode='r')\n",
    "keylist5 = particles5.keys()"
   ]
  },
  {
   "cell_type": "markdown",
   "metadata": {},
   "source": [
    "## Find peak position of different dx"
   ]
  },
  {
   "cell_type": "code",
   "execution_count": 51,
   "metadata": {},
   "outputs": [],
   "source": [
    "a='/s00015'\n",
    "df005= particles005.get(a)\n",
    "\n",
    "df1= particles1.get(a)\n",
    "\n",
    "df15= particles15.get(a)\n",
    "\n",
    "df2= particles2.get(a)\n",
    "\n",
    "df25= particles25.get(a)\n",
    "\n",
    "df3= particles3.get(a)\n",
    "\n",
    "df35= particles35.get(a)\n",
    "\n",
    "df4= particles4.get(a)\n",
    "\n",
    "df45= particles45.get(a)\n",
    "\n",
    "df5= particles5.get(a)"
   ]
  },
  {
   "cell_type": "code",
   "execution_count": 52,
   "metadata": {},
   "outputs": [],
   "source": [
    "index005 = df005.y.loc[df005.types==0].idxmax()\n",
    "index1 = df1.y.loc[df1.types==0].idxmax()\n",
    "index15 = df15.y.loc[df15.types==0].idxmax()\n",
    "index2 = df2.y.loc[df2.types==0].idxmax()\n",
    "index25 = df25.y.loc[df25.types==0].idxmax()\n",
    "index3 = df3.y.loc[df3.types==0].idxmax()\n",
    "index35 = df35.y.loc[df35.types==0].idxmax()\n",
    "index4 = df4.y.loc[df4.types==0].idxmax()\n",
    "index45 = df45.y.loc[df45.types==0].idxmax()\n",
    "index5 = df5.y.loc[df5.types==0].idxmax()"
   ]
  },
  {
   "cell_type": "code",
   "execution_count": 53,
   "metadata": {},
   "outputs": [],
   "source": [
    "dx = [0.1, 0.15, 0.2, 0.25, 0.3, 0.35, 0.4, 0.45, 0.5]\n",
    "\n",
    "error = []\n",
    "\n",
    "#choose the peak position when dx= 0.05 as the standard\n",
    "x = df005.x.iloc[index005]\n",
    "y = df005.y.iloc[index005]\n",
    "\n",
    "#caculate the distance between the standard and other peak position of other dx\n",
    "x1 = df1.x.iloc[index1]\n",
    "y1 = df1.y.iloc[index1]\n",
    "error1 = ((x1-x)**2+(y1-y)**2)**0.5\n",
    "error.append(error1)\n",
    "\n",
    "x15 = df15.x.iloc[index15]\n",
    "y15 = df15.y.iloc[index15]\n",
    "error15 = ((x15-x)**2+(y15-y)**2)**0.5\n",
    "error.append(error15)\n",
    "\n",
    "x2 = df2.x.iloc[index2]\n",
    "y2 = df2.y.iloc[index2]\n",
    "error2 = ((x2-x)**2+(y2-y)**2)**0.5\n",
    "error.append(error2)\n",
    "\n",
    "x25 = df25.x.iloc[index25]\n",
    "y25 = df25.y.iloc[index25]\n",
    "error25 = ((x25-x)**2+(y25-y)**2)**0.5\n",
    "error.append(error25)\n",
    "\n",
    "x3 = df3.x.iloc[index3]\n",
    "y3 = df3.y.iloc[index3]\n",
    "error3 = ((x3-x)**2+(y3-y)**2)**0.5\n",
    "error.append(error3)\n",
    "\n",
    "x35 = df35.x.iloc[index35]\n",
    "y35 = df35.y.iloc[index35]\n",
    "error35 = ((x35-x)*(x35-x)+(y35-y)*(y35-y))**0.5\n",
    "error.append(error35)\n",
    "\n",
    "x4 = df4.x.iloc[index4]\n",
    "y4 = df4.y.iloc[index4]\n",
    "error4 = ((x4-x)**2+(y4-y)**2)**0.5\n",
    "error.append(error4)\n",
    "\n",
    "x45 = df45.x.iloc[index45]\n",
    "y45 = df45.y.iloc[index45]\n",
    "error45 = ((x45-x)**2+(y45-y)**2)**0.5\n",
    "error.append(error45)\n",
    "\n",
    "\n",
    "x5 = df5.x.iloc[index5]\n",
    "y5 = df5.y.iloc[index5]\n",
    "error5 = ((x5-x)**2+(y5-y)**2)**0.5\n",
    "error.append(error5)"
   ]
  },
  {
   "cell_type": "code",
   "execution_count": 54,
   "metadata": {},
   "outputs": [
    {
     "data": {
      "text/plain": [
       "<matplotlib.legend.Legend at 0x25f2c233348>"
      ]
     },
     "execution_count": 54,
     "metadata": {},
     "output_type": "execute_result"
    },
    {
     "data": {
      "image/png": "[encoded data removed]",
      "text/plain": [
       "<Figure size 720x432 with 1 Axes>"
      ]
     },
     "metadata": {
      "needs_background": "light"
     },
     "output_type": "display_data"
    }
   ],
   "source": [
    "#convergence plot according to dt with different dx\n",
    "fig, axs = plt.subplots(1, 1, figsize=(10,6))\n",
    "line_fit = np.polyfit(np.log(dx), np.log(error), 1)\n",
    "axs.loglog(dx, np.exp(line_fit[1]) * dx**(line_fit[0]), 'k-', label = 'slope: {:.2f}'.format(line_fit[0]))\n",
    "axs.loglog(dx, error,'x')\n",
    "\n",
    "axs.set_xlabel('$\\Delta x$', fontsize=16)\n",
    "axs.set_ylabel('RMS Error', fontsize=16)\n",
    "axs.set_title('Convergence plot with differnt dt at t=0.8s', fontsize=16)\n",
    "axs.legend(fontsize=12)"
   ]
  },
  {
   "cell_type": "code",
   "execution_count": 15,
   "metadata": {},
   "outputs": [],
   "source": [
    "particles005.close()\n",
    "particles1.close()\n",
    "particles15.close()\n",
    "particles2.close()\n",
    "particles25.close()\n",
    "particles3.close()\n",
    "particles35.close()\n",
    "particles4.close()\n",
    "particles45.close()\n",
    "particles5.close()"
   ]
  },
  {
   "cell_type": "code",
   "execution_count": null,
   "metadata": {},
   "outputs": [],
   "source": []
  }
 ],
 "metadata": {
  "kernelspec": {
   "display_name": "Python 3",
   "language": "python",
   "name": "python3"
  },
  "language_info": {
   "codemirror_mode": {
    "name": "ipython",
    "version": 3
   },
   "file_extension": ".py",
   "mimetype": "text/x-python",
   "name": "python",
   "nbconvert_exporter": "python",
   "pygments_lexer": "ipython3",
   "version": "3.7.4"
  }
 },
 "nbformat": 4,
 "nbformat_minor": 4
}
